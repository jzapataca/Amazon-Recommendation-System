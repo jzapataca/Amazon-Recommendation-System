{
 "cells": [
  {
   "cell_type": "code",
   "execution_count": 79,
   "metadata": {},
   "outputs": [],
   "source": [
    "import pandas as pd\n",
    "import os\n",
    "from sklearn.feature_extraction.text import TfidfVectorizer\n",
    "from sklearn.metrics.pairwise import cosine_similarity"
   ]
  },
  {
   "cell_type": "code",
   "execution_count": 34,
   "metadata": {},
   "outputs": [],
   "source": [
    "files = os.listdir(\"../data/raw\")\n",
    "\n",
    "data = pd.DataFrame()\n",
    "\n",
    "for file in files:\n",
    "    temp_data = pd.read_csv(\n",
    "        \"../data/raw/\" + file, \n",
    "        quotechar='\"', \n",
    "        usecols=lambda column: column != 'Unnamed: 0'\n",
    "    )\n",
    "    temp_data = temp_data.sample(frac=0.1, random_state=1)  # Obtener solo el 50% de los datos\n",
    "    data = pd.concat([data, temp_data])\n"
   ]
  },
  {
   "cell_type": "code",
   "execution_count": 168,
   "metadata": {},
   "outputs": [],
   "source": [
    "data = pd.read_csv(\"../data/raw/All Electronics.csv\", quotechar='\"')\n",
    "data = data.sample(n=3000, random_state=1)"
   ]
  },
  {
   "cell_type": "code",
   "execution_count": 169,
   "metadata": {},
   "outputs": [
    {
     "data": {
      "text/plain": [
       "Index(['name', 'main_category', 'sub_category', 'image', 'link', 'ratings',\n",
       "       'no_of_ratings', 'discount_price', 'actual_price'],\n",
       "      dtype='object')"
      ]
     },
     "execution_count": 169,
     "metadata": {},
     "output_type": "execute_result"
    }
   ],
   "source": [
    "data.columns"
   ]
  },
  {
   "cell_type": "code",
   "execution_count": 170,
   "metadata": {},
   "outputs": [
    {
     "data": {
      "text/plain": [
       "(3000, 9)"
      ]
     },
     "execution_count": 170,
     "metadata": {},
     "output_type": "execute_result"
    }
   ],
   "source": [
    "data.shape"
   ]
  },
  {
   "cell_type": "code",
   "execution_count": 171,
   "metadata": {},
   "outputs": [],
   "source": [
    "data[\"desc\"] = data[\"main_category\"] + \" \" + data[\"sub_category\"] + \" \" + data[\"name\"]"
   ]
  },
  {
   "cell_type": "code",
   "execution_count": 174,
   "metadata": {},
   "outputs": [],
   "source": [
    "from sklearn.feature_extraction import text\n",
    "\n",
    "stop_words = text.ENGLISH_STOP_WORDS\n",
    "\n",
    "data[\"desc\"] = data[\"desc\"].apply(lambda x: ' '.join([word.lower() for word in x.split() if word not in stop_words]))\n",
    "data[\"index\"] = [i for i in range(data.shape[0])]"
   ]
  },
  {
   "cell_type": "code",
   "execution_count": 176,
   "metadata": {},
   "outputs": [],
   "source": [
    "data.to_csv(\"../data/interim/data.csv\", index=False)"
   ]
  },
  {
   "cell_type": "code",
   "execution_count": 177,
   "metadata": {},
   "outputs": [],
   "source": [
    "data = pd.read_csv(\"../data/interim/data.csv\")"
   ]
  },
  {
   "cell_type": "code",
   "execution_count": 178,
   "metadata": {},
   "outputs": [],
   "source": [
    "vectorizer = TfidfVectorizer(max_features=5000, max_df=0.85, min_df=5)\n",
    "tfidf_matrix = vectorizer.fit_transform(data['desc'])"
   ]
  },
  {
   "cell_type": "code",
   "execution_count": 179,
   "metadata": {},
   "outputs": [],
   "source": [
    "cosine_sim = cosine_similarity(tfidf_matrix)"
   ]
  },
  {
   "cell_type": "code",
   "execution_count": 180,
   "metadata": {},
   "outputs": [],
   "source": [
    "import numpy as np\n",
    "\n",
    "np.save(\"../data/interim/cosine_sim.npy\", cosine_sim)"
   ]
  },
  {
   "cell_type": "code",
   "execution_count": 183,
   "metadata": {},
   "outputs": [
    {
     "data": {
      "text/html": [
       "<div>\n",
       "<style scoped>\n",
       "    .dataframe tbody tr th:only-of-type {\n",
       "        vertical-align: middle;\n",
       "    }\n",
       "\n",
       "    .dataframe tbody tr th {\n",
       "        vertical-align: top;\n",
       "    }\n",
       "\n",
       "    .dataframe thead th {\n",
       "        text-align: right;\n",
       "    }\n",
       "</style>\n",
       "<table border=\"1\" class=\"dataframe\">\n",
       "  <thead>\n",
       "    <tr style=\"text-align: right;\">\n",
       "      <th></th>\n",
       "      <th>name</th>\n",
       "      <th>main_category</th>\n",
       "      <th>sub_category</th>\n",
       "      <th>image</th>\n",
       "      <th>link</th>\n",
       "      <th>ratings</th>\n",
       "      <th>no_of_ratings</th>\n",
       "      <th>discount_price</th>\n",
       "      <th>actual_price</th>\n",
       "      <th>desc</th>\n",
       "      <th>index</th>\n",
       "    </tr>\n",
       "  </thead>\n",
       "  <tbody>\n",
       "    <tr>\n",
       "      <th>669</th>\n",
       "      <td>realme Buds Air 2 True Wireless in Ear Earbuds...</td>\n",
       "      <td>tv, audio &amp; cameras</td>\n",
       "      <td>All Electronics</td>\n",
       "      <td>https://m.media-amazon.com/images/I/71WdDANbqD...</td>\n",
       "      <td>https://www.amazon.in/realme-Wireless-Cancella...</td>\n",
       "      <td>3.7</td>\n",
       "      <td>3,629</td>\n",
       "      <td>₹3,299</td>\n",
       "      <td>₹4,999</td>\n",
       "      <td>tv, audio &amp; cameras electronics realme buds ai...</td>\n",
       "      <td>669</td>\n",
       "    </tr>\n",
       "    <tr>\n",
       "      <th>167</th>\n",
       "      <td>truke Buds PRO Hybrid Active Noise Cancelling ...</td>\n",
       "      <td>tv, audio &amp; cameras</td>\n",
       "      <td>All Electronics</td>\n",
       "      <td>https://m.media-amazon.com/images/I/51Bb4BJB9h...</td>\n",
       "      <td>https://www.amazon.in/truke-Cancelling-Bluetoo...</td>\n",
       "      <td>3.4</td>\n",
       "      <td>345</td>\n",
       "      <td>₹1,499</td>\n",
       "      <td>₹4,499</td>\n",
       "      <td>tv, audio &amp; cameras electronics truke buds pro...</td>\n",
       "      <td>167</td>\n",
       "    </tr>\n",
       "    <tr>\n",
       "      <th>1818</th>\n",
       "      <td>truke Buds PRO Hybrid Active Noise Cancelling ...</td>\n",
       "      <td>tv, audio &amp; cameras</td>\n",
       "      <td>All Electronics</td>\n",
       "      <td>https://m.media-amazon.com/images/I/51Bb4BJB9h...</td>\n",
       "      <td>https://www.amazon.in/truke-Cancelling-Bluetoo...</td>\n",
       "      <td>3.4</td>\n",
       "      <td>345</td>\n",
       "      <td>₹1,499</td>\n",
       "      <td>₹4,499</td>\n",
       "      <td>tv, audio &amp; cameras electronics truke buds pro...</td>\n",
       "      <td>1818</td>\n",
       "    </tr>\n",
       "    <tr>\n",
       "      <th>1862</th>\n",
       "      <td>truke Buds PRO Hybrid Active Noise Cancelling ...</td>\n",
       "      <td>tv, audio &amp; cameras</td>\n",
       "      <td>All Electronics</td>\n",
       "      <td>https://m.media-amazon.com/images/I/51VJxkEBRH...</td>\n",
       "      <td>https://www.amazon.in/truke-Cancelling-Bluetoo...</td>\n",
       "      <td>3.5</td>\n",
       "      <td>1,361</td>\n",
       "      <td>₹1,499</td>\n",
       "      <td>₹4,499</td>\n",
       "      <td>tv, audio &amp; cameras electronics truke buds pro...</td>\n",
       "      <td>1862</td>\n",
       "    </tr>\n",
       "    <tr>\n",
       "      <th>651</th>\n",
       "      <td>Boult Audio Curve ANC Wireless in Ear Wireless...</td>\n",
       "      <td>tv, audio &amp; cameras</td>\n",
       "      <td>All Electronics</td>\n",
       "      <td>https://m.media-amazon.com/images/W/IMAGERENDE...</td>\n",
       "      <td>https://www.amazon.in/Boult-Audio-Wireless-Ear...</td>\n",
       "      <td>3.8</td>\n",
       "      <td>104,356</td>\n",
       "      <td>₹1,499</td>\n",
       "      <td>₹5,499</td>\n",
       "      <td>tv, audio &amp; cameras electronics boult audio cu...</td>\n",
       "      <td>651</td>\n",
       "    </tr>\n",
       "  </tbody>\n",
       "</table>\n",
       "</div>"
      ],
      "text/plain": [
       "                                                   name        main_category  \\\n",
       "669   realme Buds Air 2 True Wireless in Ear Earbuds...  tv, audio & cameras   \n",
       "167   truke Buds PRO Hybrid Active Noise Cancelling ...  tv, audio & cameras   \n",
       "1818  truke Buds PRO Hybrid Active Noise Cancelling ...  tv, audio & cameras   \n",
       "1862  truke Buds PRO Hybrid Active Noise Cancelling ...  tv, audio & cameras   \n",
       "651   Boult Audio Curve ANC Wireless in Ear Wireless...  tv, audio & cameras   \n",
       "\n",
       "         sub_category                                              image  \\\n",
       "669   All Electronics  https://m.media-amazon.com/images/I/71WdDANbqD...   \n",
       "167   All Electronics  https://m.media-amazon.com/images/I/51Bb4BJB9h...   \n",
       "1818  All Electronics  https://m.media-amazon.com/images/I/51Bb4BJB9h...   \n",
       "1862  All Electronics  https://m.media-amazon.com/images/I/51VJxkEBRH...   \n",
       "651   All Electronics  https://m.media-amazon.com/images/W/IMAGERENDE...   \n",
       "\n",
       "                                                   link ratings no_of_ratings  \\\n",
       "669   https://www.amazon.in/realme-Wireless-Cancella...     3.7         3,629   \n",
       "167   https://www.amazon.in/truke-Cancelling-Bluetoo...     3.4           345   \n",
       "1818  https://www.amazon.in/truke-Cancelling-Bluetoo...     3.4           345   \n",
       "1862  https://www.amazon.in/truke-Cancelling-Bluetoo...     3.5         1,361   \n",
       "651   https://www.amazon.in/Boult-Audio-Wireless-Ear...     3.8       104,356   \n",
       "\n",
       "     discount_price actual_price  \\\n",
       "669          ₹3,299       ₹4,999   \n",
       "167          ₹1,499       ₹4,499   \n",
       "1818         ₹1,499       ₹4,499   \n",
       "1862         ₹1,499       ₹4,499   \n",
       "651          ₹1,499       ₹5,499   \n",
       "\n",
       "                                                   desc  index  \n",
       "669   tv, audio & cameras electronics realme buds ai...    669  \n",
       "167   tv, audio & cameras electronics truke buds pro...    167  \n",
       "1818  tv, audio & cameras electronics truke buds pro...   1818  \n",
       "1862  tv, audio & cameras electronics truke buds pro...   1862  \n",
       "651   tv, audio & cameras electronics boult audio cu...    651  "
      ]
     },
     "execution_count": 183,
     "metadata": {},
     "output_type": "execute_result"
    }
   ],
   "source": [
    "def recommend(product_index, data = data, cosine_sim=cosine_sim):\n",
    "    \n",
    "    similar_products = list(enumerate(cosine_sim[product_index]))\n",
    "    similar_products = sorted(similar_products, key=lambda x: x[1], reverse=True)[1:6]  # Top 5 similares\n",
    "    return data.iloc[[i[0] for i in similar_products]]\n",
    "\n",
    "recommend(10)"
   ]
  },
  {
   "cell_type": "code",
   "execution_count": 136,
   "metadata": {},
   "outputs": [
    {
     "data": {
      "text/plain": [
       "np.float64(4.081876476544043)"
      ]
     },
     "execution_count": 136,
     "metadata": {},
     "output_type": "execute_result"
    }
   ],
   "source": [
    "data[\"ratings\"] = pd.to_numeric(data[\"ratings\"], errors='coerce')\n",
    "data[\"ratings\"].mean()"
   ]
  },
  {
   "cell_type": "code",
   "execution_count": null,
   "metadata": {},
   "outputs": [
    {
     "data": {
      "text/html": [
       "<div>\n",
       "<style scoped>\n",
       "    .dataframe tbody tr th:only-of-type {\n",
       "        vertical-align: middle;\n",
       "    }\n",
       "\n",
       "    .dataframe tbody tr th {\n",
       "        vertical-align: top;\n",
       "    }\n",
       "\n",
       "    .dataframe thead th {\n",
       "        text-align: right;\n",
       "    }\n",
       "</style>\n",
       "<table border=\"1\" class=\"dataframe\">\n",
       "  <thead>\n",
       "    <tr style=\"text-align: right;\">\n",
       "      <th></th>\n",
       "      <th>Unnamed: 0</th>\n",
       "      <th>name</th>\n",
       "      <th>main_category</th>\n",
       "      <th>sub_category</th>\n",
       "      <th>image</th>\n",
       "      <th>link</th>\n",
       "      <th>ratings</th>\n",
       "      <th>no_of_ratings</th>\n",
       "      <th>discount_price</th>\n",
       "      <th>actual_price</th>\n",
       "      <th>desc</th>\n",
       "      <th>score</th>\n",
       "    </tr>\n",
       "  </thead>\n",
       "  <tbody>\n",
       "    <tr>\n",
       "      <th>2600</th>\n",
       "      <td>3081</td>\n",
       "      <td>ESR Boost Kickstand Case for Samsung Galaxy S2...</td>\n",
       "      <td>tv, audio &amp; cameras</td>\n",
       "      <td>All Electronics</td>\n",
       "      <td>https://m.media-amazon.com/images/W/IMAGERENDE...</td>\n",
       "      <td>https://www.amazon.in/ESR-S23-Ultra-Military-G...</td>\n",
       "      <td>4.7</td>\n",
       "      <td>685.0</td>\n",
       "      <td>₹1,329</td>\n",
       "      <td>₹2,099</td>\n",
       "      <td>tv, audio &amp; cameras all electronics esr boost ...</td>\n",
       "      <td>4.436421</td>\n",
       "    </tr>\n",
       "    <tr>\n",
       "      <th>1510</th>\n",
       "      <td>4371</td>\n",
       "      <td>Anker Usb C, 20W Pd Fast Powerport Iii Charger...</td>\n",
       "      <td>tv, audio &amp; cameras</td>\n",
       "      <td>All Electronics</td>\n",
       "      <td>https://m.media-amazon.com/images/I/213SOaOt0Q...</td>\n",
       "      <td>https://www.amazon.in/Charger-Anker-PowerPort-...</td>\n",
       "      <td>4.6</td>\n",
       "      <td>931.0</td>\n",
       "      <td>₹1,299</td>\n",
       "      <td>₹1,699</td>\n",
       "      <td>tv, audio &amp; cameras all electronics anker usb ...</td>\n",
       "      <td>4.416800</td>\n",
       "    </tr>\n",
       "    <tr>\n",
       "      <th>304</th>\n",
       "      <td>7270</td>\n",
       "      <td>Spigen Liquid Air Back Cover Case Compatible F...</td>\n",
       "      <td>tv, audio &amp; cameras</td>\n",
       "      <td>All Electronics</td>\n",
       "      <td>https://m.media-amazon.com/images/I/71TBlK2o0p...</td>\n",
       "      <td>https://www.amazon.in/Spigen-Liquid-Compatible...</td>\n",
       "      <td>4.6</td>\n",
       "      <td>804.0</td>\n",
       "      <td>₹1,099</td>\n",
       "      <td>₹1,499</td>\n",
       "      <td>tv, audio &amp; cameras all electronics spigen liq...</td>\n",
       "      <td>4.399083</td>\n",
       "    </tr>\n",
       "    <tr>\n",
       "      <th>2484</th>\n",
       "      <td>9192</td>\n",
       "      <td>Pentel Mechanical Pencil Graphgear500 - 0.5mm ...</td>\n",
       "      <td>tv, audio &amp; cameras</td>\n",
       "      <td>All Electronics</td>\n",
       "      <td>https://m.media-amazon.com/images/I/51CGmhM0Eo...</td>\n",
       "      <td>https://www.amazon.in/Pentel-Mechanical-Pencil...</td>\n",
       "      <td>4.6</td>\n",
       "      <td>777.0</td>\n",
       "      <td>NaN</td>\n",
       "      <td>₹599</td>\n",
       "      <td>tv, audio &amp; cameras all electronics pentel mec...</td>\n",
       "      <td>4.394865</td>\n",
       "    </tr>\n",
       "    <tr>\n",
       "      <th>2611</th>\n",
       "      <td>940</td>\n",
       "      <td>SWAPKART 5-in-1 Cleaning Soft Brush Keyboard C...</td>\n",
       "      <td>tv, audio &amp; cameras</td>\n",
       "      <td>All Electronics</td>\n",
       "      <td>https://m.media-amazon.com/images/I/51L5QxMDop...</td>\n",
       "      <td>https://www.amazon.in/SWAPKART-Cleaning-Multi-...</td>\n",
       "      <td>4.6</td>\n",
       "      <td>702.0</td>\n",
       "      <td>₹149</td>\n",
       "      <td>₹499</td>\n",
       "      <td>tv, audio &amp; cameras all electronics swapkart 5...</td>\n",
       "      <td>4.382164</td>\n",
       "    </tr>\n",
       "  </tbody>\n",
       "</table>\n",
       "</div>"
      ],
      "text/plain": [
       "      Unnamed: 0                                               name  \\\n",
       "2600        3081  ESR Boost Kickstand Case for Samsung Galaxy S2...   \n",
       "1510        4371  Anker Usb C, 20W Pd Fast Powerport Iii Charger...   \n",
       "304         7270  Spigen Liquid Air Back Cover Case Compatible F...   \n",
       "2484        9192  Pentel Mechanical Pencil Graphgear500 - 0.5mm ...   \n",
       "2611         940  SWAPKART 5-in-1 Cleaning Soft Brush Keyboard C...   \n",
       "\n",
       "            main_category     sub_category  \\\n",
       "2600  tv, audio & cameras  All Electronics   \n",
       "1510  tv, audio & cameras  All Electronics   \n",
       "304   tv, audio & cameras  All Electronics   \n",
       "2484  tv, audio & cameras  All Electronics   \n",
       "2611  tv, audio & cameras  All Electronics   \n",
       "\n",
       "                                                  image  \\\n",
       "2600  https://m.media-amazon.com/images/W/IMAGERENDE...   \n",
       "1510  https://m.media-amazon.com/images/I/213SOaOt0Q...   \n",
       "304   https://m.media-amazon.com/images/I/71TBlK2o0p...   \n",
       "2484  https://m.media-amazon.com/images/I/51CGmhM0Eo...   \n",
       "2611  https://m.media-amazon.com/images/I/51L5QxMDop...   \n",
       "\n",
       "                                                   link  ratings  \\\n",
       "2600  https://www.amazon.in/ESR-S23-Ultra-Military-G...      4.7   \n",
       "1510  https://www.amazon.in/Charger-Anker-PowerPort-...      4.6   \n",
       "304   https://www.amazon.in/Spigen-Liquid-Compatible...      4.6   \n",
       "2484  https://www.amazon.in/Pentel-Mechanical-Pencil...      4.6   \n",
       "2611  https://www.amazon.in/SWAPKART-Cleaning-Multi-...      4.6   \n",
       "\n",
       "      no_of_ratings discount_price actual_price  \\\n",
       "2600          685.0         ₹1,329       ₹2,099   \n",
       "1510          931.0         ₹1,299       ₹1,699   \n",
       "304           804.0         ₹1,099       ₹1,499   \n",
       "2484          777.0            NaN         ₹599   \n",
       "2611          702.0           ₹149         ₹499   \n",
       "\n",
       "                                                   desc     score  \n",
       "2600  tv, audio & cameras all electronics esr boost ...  4.436421  \n",
       "1510  tv, audio & cameras all electronics anker usb ...  4.416800  \n",
       "304   tv, audio & cameras all electronics spigen liq...  4.399083  \n",
       "2484  tv, audio & cameras all electronics pentel mec...  4.394865  \n",
       "2611  tv, audio & cameras all electronics swapkart 5...  4.382164  "
      ]
     },
     "execution_count": 137,
     "metadata": {},
     "output_type": "execute_result"
    }
   ],
   "source": [
    "def weighted_rating(df, min_ratings=50):\n",
    "    df[\"ratings\"] = pd.to_numeric(data[\"ratings\"], errors='coerce')\n",
    "    df[\"no_of_ratings\"] = pd.to_numeric(data[\"no_of_ratings\"], errors='coerce')\n",
    "    C = df['ratings'].mean()  # Promedio de todas las calificaciones\n",
    "    m = df['no_of_ratings'].quantile(0.75)  # Cantidad mínima de calificaciones (percentil 75)\n",
    "    \n",
    "    def bayesian_rating(row):\n",
    "        v = row['no_of_ratings']\n",
    "        R = row['ratings']\n",
    "        return (v / (v + m) * R) + (m / (m + v) * C)\n",
    "\n",
    "    df = df.copy()\n",
    "    df['score'] = df.apply(bayesian_rating, axis=1)\n",
    "    return df.sort_values('score', ascending=False)\n",
    "\n",
    "popular_products = weighted_rating(data)\n",
    "popular_products.head()"
   ]
  }
 ],
 "metadata": {
  "kernelspec": {
   "display_name": ".venv",
   "language": "python",
   "name": "python3"
  },
  "language_info": {
   "codemirror_mode": {
    "name": "ipython",
    "version": 3
   },
   "file_extension": ".py",
   "mimetype": "text/x-python",
   "name": "python",
   "nbconvert_exporter": "python",
   "pygments_lexer": "ipython3",
   "version": "3.10.11"
  }
 },
 "nbformat": 4,
 "nbformat_minor": 2
}
